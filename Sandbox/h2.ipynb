{
 "cells": [
  {
   "cell_type": "code",
   "execution_count": 37,
   "metadata": {},
   "outputs": [
    {
     "name": "stdout",
     "output_type": "stream",
     "text": [
      "2\n"
     ]
    }
   ],
   "source": [
    "import jaydebeapi\n",
    "\n",
    "import jaydebeapi\n",
    "dir=''\n",
    "conn = jaydebeapi.connect(\"org.h2.Driver\", # driver class\n",
    "                            \"jdbc:h2:tcp://localhost/~/test\", # JDBC url\n",
    "                            [\"sa\", \"\"], # credentials\n",
    "                            r\"/home/sumer/Desktop/Hmm/Major/Search/Sandbox/h2-1.4.200.jar\",) # location of H2 jar\n",
    "try:\n",
    "        curs = conn.cursor()\n",
    "        # Fetch the last 10 timestamps\n",
    "        curs.execute(\"select * from persons where firstname='name'\")\n",
    "        results = curs.fetchall()\n",
    "        print(len(results))\n",
    "        '''for value in curs.fetchall():\n",
    "                # the values are returned as wrapped java.lang.Long instances\n",
    "                # invoke the toString() method to print them\n",
    "                print(value[0].toString())\n",
    "            '''\n",
    "finally:\n",
    "        if curs is not None:\n",
    "                curs.close()\n",
    "        if conn is not None:\n",
    "                conn.close()"
   ]
  },
  {
   "cell_type": "code",
   "execution_count": 35,
   "metadata": {},
   "outputs": [],
   "source": [
    "import jaydebeapi\n",
    "\n",
    "import jaydebeapi\n",
    "dir=''\n",
    "conn = jaydebeapi.connect(\"org.h2.Driver\", # driver class\n",
    "                            \"jdbc:h2:tcp://localhost/~/test\", # JDBC url\n",
    "                            [\"sa\", \"\"], # credentials\n",
    "                            r\"/home/sumer/Desktop/Hmm/Major/Search/Sandbox/h2-1.4.200.jar\",) # location of H2 jar\n",
    "try:\n",
    "        curs = conn.cursor()\n",
    "        # Fetch the last 10 timestamps\n",
    "        curs.execute(\"update persons set personid=personid+1 where firstname='sumer'\")\n",
    "        #results = curs.fetchall()\n",
    "        #print(results)\n",
    "        '''for value in curs.fetchall():\n",
    "                # the values are returned as wrapped java.lang.Long instances\n",
    "                # invoke the toString() method to print them\n",
    "                print(value[0].toString())\n",
    "            '''\n",
    "finally:\n",
    "        if curs is not None:\n",
    "                curs.close()\n",
    "        if conn is not None:\n",
    "                conn.close()"
   ]
  },
  {
   "cell_type": "code",
   "execution_count": null,
   "metadata": {},
   "outputs": [],
   "source": []
  }
 ],
 "metadata": {
  "kernelspec": {
   "display_name": "Python 3",
   "language": "python",
   "name": "python3"
  },
  "language_info": {
   "codemirror_mode": {
    "name": "ipython",
    "version": 3
   },
   "file_extension": ".py",
   "mimetype": "text/x-python",
   "name": "python",
   "nbconvert_exporter": "python",
   "pygments_lexer": "ipython3",
   "version": "3.6.9"
  }
 },
 "nbformat": 4,
 "nbformat_minor": 2
}
