{
 "cells": [
  {
   "cell_type": "code",
   "execution_count": null,
   "metadata": {},
   "outputs": [],
   "source": [
    "## score=[[]]\n",
    "def query(search_query):\n",
    "    import math\n",
    "    import pymongo\n",
    "    from pymongo import MongoClient\n",
    "    connection = MongoClient()\n",
    "    connection.database_names()\n",
    "    db = connection.token\n",
    "\n",
    "    score=[[]]\n",
    "\n",
    "    links={}\n",
    "\n",
    "\n",
    "    for x in search_query.split():\n",
    "        text=db.words.find_one({'word':x})\n",
    "        length=len(text['docid'])\n",
    "        for z in range(0,length):\n",
    "            if(text['docid'][z][1] in links):\n",
    "                score_pos=links.get(text['docid'][z][1])\n",
    "                inv_doc_score=math.log(text['docid'][z][4])+math.log(1/length)\n",
    "                word_pos_score=(text['docid'][z][3]+1)/length\n",
    "                word_pos_score=0\n",
    "                print('link there',inv_doc_score,word_pos_score)\n",
    "                score[score_pos][0]=score[score_pos][0]+inv_doc_score+word_pos_score\n",
    "                score[score_pos][2].append(text['word'])\n",
    "            else:\n",
    "                temp_list=[0,'',[]]\n",
    "                inv_doc_score=(math.log(text['docid'][z][4])+math.log(1/length))\n",
    "                word_pos_score=(text['docid'][z][3]+1)/length\n",
    "                word_pos_score=0\n",
    "                print('link not there',inv_doc_score,word_pos_score)\n",
    "\n",
    "                temp_list[0]=math.log(text['docid'][0][2])+inv_doc_score+word_pos_score\n",
    "                temp_list[1]=text['docid'][z][1]\n",
    "                temp_list[2].append(text['word'])\n",
    "                score=score+[temp_list]\n",
    "                links[temp_list[1]]=len(score)\n",
    "        score.pop(0)\n",
    "        score1=sorted(score, key=lambda x: x[0], reverse=True)\n",
    "        if(len(score1)>20):\n",
    "            score1=score1[:10]\n",
    "        dic={k: v for k,v in enumerate(score1)}        \n",
    "        return dic"
   ]
  }
 ],
 "metadata": {
  "kernelspec": {
   "display_name": "Python 3",
   "language": "python",
   "name": "python3"
  },
  "language_info": {
   "codemirror_mode": {
    "name": "ipython",
    "version": 3
   },
   "file_extension": ".py",
   "mimetype": "text/x-python",
   "name": "python",
   "nbconvert_exporter": "python",
   "pygments_lexer": "ipython3",
   "version": "3.6.9"
  }
 },
 "nbformat": 4,
 "nbformat_minor": 2
}
