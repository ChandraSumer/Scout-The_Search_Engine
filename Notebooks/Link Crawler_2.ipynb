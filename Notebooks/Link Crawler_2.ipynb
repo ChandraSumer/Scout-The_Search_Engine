{
 "cells": [
  {
   "cell_type": "code",
   "execution_count": 2,
   "metadata": {},
   "outputs": [],
   "source": [
    "#Much faster than Version 1\n",
    "\n",
    "\n",
    "import urllib.request as ur\n",
    "import lxml.html\n",
    "links=[]\n",
    "\n",
    "#gets links\n",
    "\n",
    "connection = ur.urlopen('http://www.upes.ac.in')\n",
    "\n",
    "dom =  lxml.html.fromstring(connection.read())\n",
    "\n",
    "for link in dom.xpath('//a/@href'): # select the url in href for all a tags(links)\n",
    "    links.append(link)\n",
    "\n",
    "#2nd Degree links\n",
    "\n",
    "count=0\n",
    "links=list(set(links))\n",
    "links1=links\n",
    "for x in range(0,len(links1)):\n",
    "  try:\n",
    "    connection = ur.urlopen(links1[x])\n",
    "    dom =  lxml.html.fromstring(connection.read())\n",
    "    for link in dom.xpath('//a/@href'): # select the url in href for all a tags(links)\n",
    "      links.append(link)\n",
    "  except:\n",
    "    pass"
   ]
  },
  {
   "cell_type": "code",
   "execution_count": null,
   "metadata": {},
   "outputs": [],
   "source": []
  }
 ],
 "metadata": {
  "kernelspec": {
   "display_name": "Python 3",
   "language": "python",
   "name": "python3"
  },
  "language_info": {
   "codemirror_mode": {
    "name": "ipython",
    "version": 3
   },
   "file_extension": ".py",
   "mimetype": "text/x-python",
   "name": "python",
   "nbconvert_exporter": "python",
   "pygments_lexer": "ipython3",
   "version": "3.6.9"
  }
 },
 "nbformat": 4,
 "nbformat_minor": 2
}
