{
 "cells": [
  {
   "cell_type": "code",
   "execution_count": 5,
   "metadata": {},
   "outputs": [],
   "source": [
    "import urllib.request as ur\n",
    "import lxml.html\n",
    "from threading import Thread\n",
    "from queue import Queue\n",
    "import jaydebeapi\n",
    "import jaydebeapi\n",
    "conn = jaydebeapi.connect(\"org.h2.Driver\", # driver class\n",
    "                            \"jdbc:h2:tcp://localhost/~/test\", # JDBC url\n",
    "                            [\"sa\", \"\"], # credentials\n",
    "                            r\"/home/sumer/Desktop/Hmm/Major/Search/Sandbox/h2-1.4.200.jar\",) # location of H2 jar\n",
    "\n",
    "\n",
    "links = Queue()\n",
    "\n",
    "def producer():\n",
    "    connection = ur.urlopen('http://www.upes.ac.in')\n",
    "    dom =  lxml.html.fromstring(connection.read())\n",
    "    links1=[]\n",
    "    for link in dom.xpath('//a/@href'): # select the url in href for all a tags(links)\n",
    "        links1.append(link)\n",
    "\n",
    "#2nd Degree links\n",
    "\n",
    "    links1=list(set(links1))\n",
    "    for x in range(0,len(links1)):\n",
    "        try:\n",
    "            connection = ur.urlopen(links1[x])\n",
    "            dom =  lxml.html.fromstring(connection.read())\n",
    "            for link in dom.xpath('//a/@href'): # select the url in href for all a tags(links)\n",
    "                links.put(link)\n",
    "        except:\n",
    "            pass\n",
    "\n",
    "\n",
    "def consumer():\n",
    "    try:\n",
    "        curs = conn.cursor()\n",
    "        while True:\n",
    "            linkstr = links.get()\n",
    "            query=\"select * from links where link='\"+linkstr+\"'\"\n",
    "            curs.execute(query)\n",
    "            results=curs.fetchall()\n",
    "            if(len(results)==0):\n",
    "                query=\"INSERT INTO links (link, count,tokeniszed)VALUES ('\"+linkstr+\"', 1,0);\"\n",
    "                curs.execute(query)\n",
    "            else:\n",
    "                query=\"UPDATE links SET count = count + 1 where link='\"+linkstr+\"'\"\n",
    "                curs.execute(query)\n",
    "            links.task_done()\n",
    "    finally:\n",
    "        if curs is not None:\n",
    "                curs.close()\n",
    "        if conn is not None:\n",
    "                conn.close()\n",
    "t = Thread(target=consumer)\n",
    "t.daemon = True\n",
    "t.start()\n",
    "\n",
    "producer()"
   ]
  },
  {
   "cell_type": "code",
   "execution_count": null,
   "metadata": {},
   "outputs": [],
   "source": []
  }
 ],
 "metadata": {
  "kernelspec": {
   "display_name": "Python 3",
   "language": "python",
   "name": "python3"
  },
  "language_info": {
   "codemirror_mode": {
    "name": "ipython",
    "version": 3
   },
   "file_extension": ".py",
   "mimetype": "text/x-python",
   "name": "python",
   "nbconvert_exporter": "python",
   "pygments_lexer": "ipython3",
   "version": "3.6.9"
  }
 },
 "nbformat": 4,
 "nbformat_minor": 2
}
