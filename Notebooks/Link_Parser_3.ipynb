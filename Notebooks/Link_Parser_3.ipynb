{
 "cells": [
  {
   "cell_type": "code",
   "execution_count": 2,
   "metadata": {},
   "outputs": [
    {
     "name": "stderr",
     "output_type": "stream",
     "text": [
      "/usr/local/lib/python3.6/dist-packages/ipykernel_launcher.py:66: DeprecationWarning: update is deprecated. Use replace_one, update_one or update_many instead.\n"
     ]
    }
   ],
   "source": [
    "### %%time\n",
    "from urllib.request import urlopen\n",
    "from bs4 import BeautifulSoup\n",
    "from pymongo import MongoClient\n",
    "from random import randint\n",
    "#Step 1: Connect to MongoDB - Note: Change connection string as needed\n",
    "client = MongoClient(port=27017)\n",
    "db=client.token\n",
    "import jaydebeapi\n",
    "conn = jaydebeapi.connect(\"org.h2.Driver\", # driver class\n",
    "                            \"jdbc:h2:tcp://localhost/~/test\", # JDBC url\n",
    "                            [\"sa\", \"\"], # credentials\n",
    "                            r\"/home/sumer/Desktop/Hmm/Major/Search/Sandbox/h2-1.4.200.jar\",) # location of H2 jar\n",
    "\n",
    "try:\n",
    "    curs = conn.cursor()\n",
    "    query=\"select * from links where tokeniszed=0\"\n",
    "    curs.execute(query)\n",
    "    results=curs.fetchall()\n",
    "    query=0\n",
    "    \n",
    "    for link_info in results:\n",
    "\n",
    "        url = link_info[1]\n",
    "        try:\n",
    "            html = urlopen(url).read()\n",
    "\n",
    "\n",
    "            temp_var=[]\n",
    "            temp_var.append(link_info[0])\n",
    "            temp_var.append(link_info[1])\n",
    "            temp_var.append(link_info[2])\n",
    "            soup = BeautifulSoup(html, features=\"html.parser\")\n",
    "\n",
    "            # kill all script and style elements\n",
    "            for script in soup([\"script\", \"style\"]):\n",
    "                script.extract()    # rip it out\n",
    "\n",
    "            # get text\n",
    "            text = (soup.get_text()).lower()\n",
    "\n",
    "            # break into lines and remove leading and trailing space on each\n",
    "            lines = (line.strip() for line in text.splitlines())\n",
    "            # break multi-headlines into a line each\n",
    "            chunks = (phrase.strip() for line in lines for phrase in line.split(\"  \"))\n",
    "            # drop blank lines\n",
    "            text = '\\n'.join(chunk for chunk in chunks if chunk)\n",
    "\n",
    "            text=text.split()\n",
    "\n",
    "            words={}\n",
    "            for index in range(0,len(text)):\n",
    "                if(text[index] in words):\n",
    "                    words[text[index]][1]=words[text[index]][1]+1\n",
    "                else:\n",
    "                    words[text[index]]=[index,1]\n",
    "\n",
    "            for x in words:\n",
    "                temp_var1=temp_var+words[x]\n",
    "                document = {\n",
    "                    'word' : x,\n",
    "                    'docid' : [temp_var1]\n",
    "                }\n",
    "                #Step 2: Insert business object directly into MongoDB via isnert_one\n",
    "\n",
    "                results=db.words.update({'word': x}, {'$push': {'docid': temp_var1}})\n",
    "                if(results['n']==0):\n",
    "                    result=db.words.insert_one(document)\n",
    "                query=\"UPDATE links SET tokeniszed = 1 where link='\"+link_info[1]+\"'\"\n",
    "                curs.execute(query)\n",
    "                temp_var1=[]\n",
    "\n",
    "            #Step 3: Tell us that you are done\n",
    "            #print('finished indexing')\n",
    "        except:\n",
    "            pass\n",
    "\n",
    "finally:\n",
    "    if curs is not None:\n",
    "        curs.close()\n",
    "    if conn is not None:\n",
    "        conn.close()"
   ]
  },
  {
   "cell_type": "code",
   "execution_count": null,
   "metadata": {},
   "outputs": [],
   "source": []
  },
  {
   "cell_type": "code",
   "execution_count": null,
   "metadata": {},
   "outputs": [],
   "source": []
  },
  {
   "cell_type": "code",
   "execution_count": null,
   "metadata": {},
   "outputs": [],
   "source": []
  },
  {
   "cell_type": "code",
   "execution_count": null,
   "metadata": {},
   "outputs": [],
   "source": [
    "linkin|linkurl|link_count|word_postion|word_count|"
   ]
  },
  {
   "cell_type": "code",
   "execution_count": null,
   "metadata": {},
   "outputs": [],
   "source": []
  },
  {
   "cell_type": "code",
   "execution_count": null,
   "metadata": {},
   "outputs": [],
   "source": []
  },
  {
   "cell_type": "code",
   "execution_count": null,
   "metadata": {},
   "outputs": [],
   "source": []
  },
  {
   "cell_type": "code",
   "execution_count": null,
   "metadata": {},
   "outputs": [],
   "source": []
  },
  {
   "cell_type": "code",
   "execution_count": null,
   "metadata": {},
   "outputs": [],
   "source": []
  }
 ],
 "metadata": {
  "kernelspec": {
   "display_name": "Python 3",
   "language": "python",
   "name": "python3"
  },
  "language_info": {
   "codemirror_mode": {
    "name": "ipython",
    "version": 3
   },
   "file_extension": ".py",
   "mimetype": "text/x-python",
   "name": "python",
   "nbconvert_exporter": "python",
   "pygments_lexer": "ipython3",
   "version": "3.6.9"
  }
 },
 "nbformat": 4,
 "nbformat_minor": 2
}
