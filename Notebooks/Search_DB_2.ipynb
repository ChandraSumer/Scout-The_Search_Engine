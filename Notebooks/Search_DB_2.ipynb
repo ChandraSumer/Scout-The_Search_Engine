{
 "cells": [
  {
   "cell_type": "code",
   "execution_count": null,
   "metadata": {},
   "outputs": [],
   "source": [
    "linkin|linkurl|link_count|word_postion|word_count|"
   ]
  },
  {
   "cell_type": "code",
   "execution_count": 77,
   "metadata": {},
   "outputs": [
    {
     "name": "stdout",
     "output_type": "stream",
     "text": [
      "Socket successfully created\n",
      "socket binded to 12397\n",
      "socket is listening\n",
      "link not there -5.198497031265826 0\n",
      "link not there -1.3483494295557676 0\n",
      "link not there -3.1190554895859903 0\n",
      "link not there -5.198497031265826 0\n",
      "link not there -2.0204432009178803 0\n",
      "link not there -5.198497031265826 0\n",
      "link not there -4.505349850705881 0\n",
      "link not there -1.6431489697764126 0\n",
      "link not there -4.505349850705881 0\n",
      "link not there -3.8122026701459353 0\n",
      "link not there -4.505349850705881 0\n",
      "link not there -1.8662925210906223 0\n",
      "link not there -5.198497031265826 0\n",
      "link not there -4.505349850705881 0\n",
      "link not there -2.425908309026045 0\n",
      "link not there -1.1731453405306764 0\n",
      "link not there -5.198497031265826 0\n",
      "link not there -3.1190554895859903 0\n",
      "link not there -4.099884742597716 0\n",
      "link not there -3.8122026701459353 0\n",
      "link not there -1.3483494295557676 0\n",
      "link not there -2.153974593542403 0\n",
      "link not there -2.425908309026045 0\n",
      "link not there -1.3483494295557676 0\n",
      "link not there -1.3483494295557676 0\n",
      "link not there -2.425908309026045 0\n",
      "link not there -3.8122026701459353 0\n",
      "link not there -2.425908309026045 0\n",
      "link not there -2.153974593542403 0\n",
      "link not there -1.3483494295557676 0\n",
      "link not there -2.425908309026045 0\n",
      "link not there -1.940400493244344 0\n",
      "link not there -3.5890591188317256 0\n",
      "link not there -5.198497031265826 0\n",
      "link not there -3.406737562037771 0\n",
      "link not there -5.198497031265826 0\n",
      "link not there -5.198497031265826 0\n",
      "link not there -3.406737562037771 0\n",
      "link not there -4.505349850705881 0\n",
      "link not there -5.198497031265826 0\n",
      "link not there -4.099884742597716 0\n",
      "link not there -5.198497031265826 0\n",
      "link not there -5.198497031265826 0\n",
      "link not there -3.406737562037771 0\n",
      "link not there -5.198497031265826 0\n",
      "link not there -5.198497031265826 0\n",
      "link not there -5.198497031265826 0\n",
      "link not there -5.198497031265826 0\n",
      "link not there -3.406737562037771 0\n",
      "link not there -5.198497031265826 0\n",
      "link not there -5.198497031265826 0\n",
      "link not there -5.198497031265826 0\n",
      "link not there -5.198497031265826 0\n",
      "link not there -5.198497031265826 0\n",
      "link not there -5.198497031265826 0\n",
      "link not there -5.198497031265826 0\n",
      "link not there -5.198497031265826 0\n",
      "link not there -5.198497031265826 0\n",
      "link not there -2.425908309026045 0\n",
      "link not there -2.36528368720961 0\n",
      "link not there -1.0713626462207344 0\n",
      "link not there -1.5875791186216017 0\n",
      "link not there -1.6721365066496645 0\n",
      "link not there -1.940400493244344 0\n",
      "link not there -1.940400493244344 0\n",
      "link not there -1.940400493244344 0\n",
      "link not there -2.10745457790751 0\n",
      "link not there -1.831201201279352 0\n",
      "link not there -1.9796212063976255 0\n",
      "link not there -2.425908309026045 0\n",
      "link not there -2.0204432009178803 0\n",
      "link not there -1.9796212063976255 0\n",
      "link not there -1.831201201279352 0\n",
      "link not there -2.0630028153366764 0\n",
      "link not there -1.831201201279352 0\n",
      "link not there -2.0204432009178803 0\n",
      "link not there -1.8662925210906223 0\n",
      "link not there -2.0630028153366764 0\n",
      "link not there -2.0204432009178803 0\n",
      "link not there -2.0630028153366764 0\n",
      "link not there -2.3081252733696616 0\n",
      "link not there -2.202764757711835 0\n",
      "link not there -2.10745457790751 0\n",
      "link not there -2.202764757711835 0\n",
      "link not there -2.202764757711835 0\n",
      "link not there -1.9796212063976255 0\n",
      "link not there -1.4849249645615181 0\n",
      "link not there -1.7327611284660995 0\n",
      "link not there -2.0630028153366764 0\n",
      "link not there -2.3081252733696616 0\n",
      "link not there -2.0204432009178803 0\n",
      "link not there -2.153974593542403 0\n",
      "link not there -2.0630028153366764 0\n",
      "link not there -2.0630028153366764 0\n",
      "link not there -2.0630028153366764 0\n",
      "link not there -1.9796212063976255 0\n",
      "link not there -2.3081252733696616 0\n",
      "link not there -2.202764757711835 0\n",
      "link not there -2.202764757711835 0\n",
      "link not there -1.940400493244344 0\n",
      "link not there -2.202764757711835 0\n",
      "link not there -2.3081252733696616 0\n",
      "link not there -1.940400493244344 0\n",
      "link not there -2.3081252733696616 0\n",
      "link not there -2.3081252733696616 0\n",
      "link not there -1.9796212063976255 0\n",
      "link not there -2.202764757711835 0\n",
      "link not there -1.9796212063976255 0\n",
      "link not there -1.831201201279352 0\n",
      "link not there -2.0204432009178803 0\n",
      "link not there -2.254058052099386 0\n",
      "link not there -2.202764757711835 0\n",
      "link not there -2.10745457790751 0\n",
      "link not there -2.3081252733696616 0\n",
      "link not there -2.3081252733696616 0\n",
      "link not there -2.153974593542403 0\n",
      "link not there -2.3081252733696616 0\n",
      "link not there -1.902660165261497 0\n",
      "link not there -1.8662925210906223 0\n",
      "link not there -2.153974593542403 0\n",
      "link not there -1.8662925210906223 0\n",
      "link not there -1.9796212063976255 0\n",
      "link not there -2.153974593542403 0\n",
      "link not there -2.254058052099386 0\n",
      "link not there -2.3081252733696616 0\n",
      "link not there -2.0204432009178803 0\n",
      "link not there -2.0204432009178803 0\n",
      "link not there -2.0204432009178803 0\n",
      "link not there -2.0204432009178803 0\n",
      "link not there -2.0204432009178803 0\n",
      "link not there -1.9796212063976255 0\n",
      "link not there -2.3081252733696616 0\n",
      "link not there -2.202764757711835 0\n",
      "link not there -2.202764757711835 0\n",
      "link not there -2.202764757711835 0\n",
      "link not there -1.940400493244344 0\n",
      "link not there -1.7972996496036706 0\n",
      "link not there -2.0204432009178803 0\n",
      "link not there -1.940400493244344 0\n",
      "link not there -1.9796212063976255 0\n",
      "link not there -1.940400493244344 0\n",
      "link not there -1.940400493244344 0\n",
      "link not there -1.831201201279352 0\n",
      "link not there -1.7972996496036706 0\n",
      "link not there -2.10745457790751 0\n",
      "link not there -2.0204432009178803 0\n",
      "link not there -2.10745457790751 0\n",
      "link not there -2.202764757711835 0\n",
      "link not there -2.254058052099386 0\n",
      "link not there -2.3081252733696616 0\n",
      "link not there -2.3081252733696616 0\n",
      "link not there -2.3081252733696616 0\n",
      "link not there -2.0630028153366764 0\n",
      "link not there -2.254058052099386 0\n",
      "link not there -2.0630028153366764 0\n",
      "link not there -2.3081252733696616 0\n",
      "link not there -1.1731453405306764 0\n",
      "link not there -2.36528368720961 0\n",
      "link not there -1.6431489697764126 0\n",
      "link not there -3.8122026701459353 0\n",
      "link not there -5.198497031265826 0\n",
      "link not there -4.099884742597716 0\n",
      "link not there -5.198497031265826 0\n",
      "link not there -5.198497031265826 0\n",
      "link not there -5.198497031265826 0\n",
      "link not there -4.099884742597716 0\n",
      "link not there -4.099884742597716 0\n",
      "link not there -3.406737562037771 0\n",
      "link not there -3.1190554895859903 0\n",
      "link not there -1.9796212063976255 0\n",
      "link not there -5.198497031265826 0\n",
      "link not there -5.198497031265826 0\n",
      "link not there -5.198497031265826 0\n",
      "link not there -5.198497031265826 0\n",
      "link not there -5.198497031265826 0\n",
      "link not there -5.198497031265826 0\n",
      "link not there -5.198497031265826 0\n",
      "link not there -5.198497031265826 0\n",
      "link not there -2.254058052099386 0\n",
      "link not there -1.7645098267806798 0\n",
      "link not there -3.2525868822105126 0\n"
     ]
    },
    {
     "name": "stderr",
     "output_type": "stream",
     "text": [
      "/usr/local/lib/python3.6/dist-packages/ipykernel_launcher.py:7: DeprecationWarning: database_names is deprecated. Use list_database_names instead.\n",
      "  import sys\n"
     ]
    },
    {
     "data": {
      "text/plain": [
       "777"
      ]
     },
     "execution_count": 77,
     "metadata": {},
     "output_type": "execute_result"
    }
   ],
   "source": [
    "score=[[]]\n",
    "def query(search_query):\n",
    "    import math\n",
    "    import pymongo\n",
    "    from pymongo import MongoClient\n",
    "    connection = MongoClient()\n",
    "    connection.database_names()\n",
    "    db = connection.token\n",
    "\n",
    "    global score\n",
    "\n",
    "    links={}\n",
    "\n",
    "\n",
    "    for x in search_query.split():\n",
    "        text=db.words.find_one({'word':x})\n",
    "        length=len(text['docid'])\n",
    "        for z in range(0,length):\n",
    "            if(text['docid'][z][1] in links):\n",
    "                score_pos=links.get(text['docid'][z][1])\n",
    "                inv_doc_score=math.log(text['docid'][z][4])+math.log(1/length)\n",
    "                word_pos_score=(text['docid'][z][3]+1)/length\n",
    "                word_pos_score=0\n",
    "                print('link there',inv_doc_score,word_pos_score)\n",
    "                score[score_pos][0]=score[score_pos][0]+inv_doc_score+word_pos_score\n",
    "                score[score_pos][2].append(text['word'])\n",
    "            else:\n",
    "                temp_list=[0,'',[]]\n",
    "                inv_doc_score=(math.log(text['docid'][z][4])+math.log(1/length))\n",
    "                word_pos_score=(text['docid'][z][3]+1)/length\n",
    "                word_pos_score=0\n",
    "                print('link not there',inv_doc_score,word_pos_score)\n",
    "\n",
    "                temp_list[0]=math.log(text['docid'][0][2])+inv_doc_score+word_pos_score\n",
    "                temp_list[1]=text['docid'][z][1]\n",
    "                temp_list[2].append(text['word'])\n",
    "                score=score+[temp_list]\n",
    "                links[temp_list[1]]=len(score)\n",
    "        score.pop(0)\n",
    "        score1=sorted(score, key=lambda x: x[0], reverse=True)\n",
    "        if(len(score1)>20):\n",
    "            score1=score1[:10]\n",
    "        dic={k: v for k,v in enumerate(score1)}        \n",
    "        return dic\n",
    "\n",
    "\n",
    "\n",
    "import socket                \n",
    "  \n",
    "# next create a socket object \n",
    "soc_obj = socket.socket()          \n",
    "print (\"Socket successfully created\")\n",
    "\n",
    "port = 12397\n",
    "  \n",
    "# Next bind to the port \n",
    "# we have not typed any ip in the ip field \n",
    "# instead we have inputted an empty string \n",
    "# this makes the server listen to requests  \n",
    "# coming from other computers on the network \n",
    "soc_obj.bind(('localhost', port))         \n",
    "print (\"socket binded to %s\" %(port)) \n",
    "  \n",
    "# put the socket into listening mode \n",
    "soc_obj.listen(5)      \n",
    "print (\"socket is listening\")            \n",
    "connection_obj, addr = soc_obj.accept()      \n",
    "all={}\n",
    "all[1]=connection_obj\n",
    "\n",
    "# a forever loop until we interrupt it or  \n",
    "# an error occurs \n",
    "#while True: \n",
    "# Establish connection with client. \n",
    "#print(connection_obj.recv(100000).decode())\n",
    "#print ('Got connection from', addr) \n",
    "search_query=connection_obj.recv(100000).decode()\n",
    "search_query=search_query.split('\\'')\n",
    "search_query1=search_query[3]\n",
    "message=query(search_query1)\n",
    "#message={1:2}# send a thank you message to the client.\n",
    "message1=str(message)\n",
    "all[1].send((message1).encode())\n",
    "#print(\"You: \",connection_obj.recv(100000).decode())\n",
    "# Close the connection with the client \n",
    "#print(20)\n",
    "#connection_obj.close()\n"
   ]
  },
  {
   "cell_type": "code",
   "execution_count": 68,
   "metadata": {},
   "outputs": [
    {
     "name": "stdout",
     "output_type": "stream",
     "text": [
      "['ImmutableMultiDict([(', 'searchtext', ', ', 'virtualization technology', ')])']\n"
     ]
    }
   ],
   "source": [
    "print(search_query)\n",
    "#search_query=search_query.split('\\'')"
   ]
  },
  {
   "cell_type": "code",
   "execution_count": 69,
   "metadata": {},
   "outputs": [
    {
     "data": {
      "text/plain": [
       "'virtualization technology'"
      ]
     },
     "execution_count": 69,
     "metadata": {},
     "output_type": "execute_result"
    }
   ],
   "source": [
    "search_query[3]"
   ]
  },
  {
   "cell_type": "code",
   "execution_count": 47,
   "metadata": {},
   "outputs": [
    {
     "name": "stdout",
     "output_type": "stream",
     "text": [
      "ImmutableMultiDict([('searchtext', 'hello hi')])\n"
     ]
    }
   ],
   "source": [
    "print(search_query)"
   ]
  },
  {
   "cell_type": "code",
   "execution_count": 65,
   "metadata": {},
   "outputs": [
    {
     "name": "stdout",
     "output_type": "stream",
     "text": [
      "{0: [2.9732594177019323, 'https://blog.upes.ac.in/how-to-successfully-navigate-your-way-in-cloud-computing-and-virtualization-technology/', ['virtualization']], 1: [2.9732594177019323, 'https://blog.upes.ac.in/how-to-successfully-navigate-your-way-in-cloud-computing-and-virtualization-technology/#comments', ['virtualization']], 2: [1.268511325463507, 'https://blog.upes.ac.in/', ['virtualization']], 3: [1.268511325463507, 'https://blog.upes.ac.in', ['virtualization']], 4: [0.5753641449035616, 'https://www.upes.ac.in/schools/school-of-computer-science', ['virtualization']], 5: [0.5753641449035616, 'https://blog.upes.ac.in/category/school-of-engineering/', ['virtualization']], 6: [0.5753641449035616, 'https://blog.upes.ac.in/author/admin/', ['virtualization']], 7: [0.5753641449035616, 'https://blog.upes.ac.in/2020/12/', ['virtualization']], 8: [0.5753641449035616, 'http://upes.irins.org/', ['virtualization']]}\n"
     ]
    }
   ],
   "source": [
    "print(message)"
   ]
  },
  {
   "cell_type": "code",
   "execution_count": null,
   "metadata": {},
   "outputs": [],
   "source": []
  },
  {
   "cell_type": "code",
   "execution_count": 19,
   "metadata": {},
   "outputs": [],
   "source": []
  },
  {
   "cell_type": "code",
   "execution_count": null,
   "metadata": {},
   "outputs": [],
   "source": []
  },
  {
   "cell_type": "code",
   "execution_count": null,
   "metadata": {},
   "outputs": [],
   "source": []
  },
  {
   "cell_type": "code",
   "execution_count": null,
   "metadata": {},
   "outputs": [],
   "source": []
  },
  {
   "cell_type": "code",
   "execution_count": null,
   "metadata": {},
   "outputs": [],
   "source": []
  },
  {
   "cell_type": "code",
   "execution_count": null,
   "metadata": {},
   "outputs": [],
   "source": []
  },
  {
   "cell_type": "code",
   "execution_count": null,
   "metadata": {},
   "outputs": [],
   "source": []
  },
  {
   "cell_type": "code",
   "execution_count": null,
   "metadata": {},
   "outputs": [],
   "source": []
  },
  {
   "cell_type": "code",
   "execution_count": null,
   "metadata": {},
   "outputs": [],
   "source": []
  },
  {
   "cell_type": "code",
   "execution_count": null,
   "metadata": {},
   "outputs": [],
   "source": []
  },
  {
   "cell_type": "code",
   "execution_count": null,
   "metadata": {},
   "outputs": [],
   "source": []
  },
  {
   "cell_type": "code",
   "execution_count": null,
   "metadata": {},
   "outputs": [],
   "source": [
    "\n"
   ]
  },
  {
   "cell_type": "code",
   "execution_count": null,
   "metadata": {},
   "outputs": [],
   "source": []
  },
  {
   "cell_type": "code",
   "execution_count": null,
   "metadata": {},
   "outputs": [],
   "source": []
  },
  {
   "cell_type": "code",
   "execution_count": null,
   "metadata": {},
   "outputs": [],
   "source": []
  },
  {
   "cell_type": "code",
   "execution_count": null,
   "metadata": {},
   "outputs": [],
   "source": []
  },
  {
   "cell_type": "code",
   "execution_count": null,
   "metadata": {},
   "outputs": [],
   "source": []
  },
  {
   "cell_type": "code",
   "execution_count": null,
   "metadata": {},
   "outputs": [],
   "source": []
  },
  {
   "cell_type": "code",
   "execution_count": null,
   "metadata": {},
   "outputs": [],
   "source": []
  }
 ],
 "metadata": {
  "kernelspec": {
   "display_name": "Python 3",
   "language": "python",
   "name": "python3"
  },
  "language_info": {
   "codemirror_mode": {
    "name": "ipython",
    "version": 3
   },
   "file_extension": ".py",
   "mimetype": "text/x-python",
   "name": "python",
   "nbconvert_exporter": "python",
   "pygments_lexer": "ipython3",
   "version": "3.6.9"
  }
 },
 "nbformat": 4,
 "nbformat_minor": 2
}
